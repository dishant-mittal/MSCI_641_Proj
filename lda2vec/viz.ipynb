{
 "cells": [
  {
   "cell_type": "code",
   "execution_count": 1,
   "metadata": {},
   "outputs": [],
   "source": [
    "%matplotlib inline"
   ]
  },
  {
   "cell_type": "code",
   "execution_count": 2,
   "metadata": {},
   "outputs": [],
   "source": [
    "from lda2vec import preprocess, Corpus\n",
    "import matplotlib.pyplot as plt\n",
    "import numpy as np\n",
    "import seaborn\n",
    "import warnings\n",
    "import pyLDAvis"
   ]
  },
  {
   "cell_type": "code",
   "execution_count": 3,
   "metadata": {},
   "outputs": [],
   "source": [
    "pyLDAvis.enable_notebook()\n",
    "warnings.filterwarnings('ignore')"
   ]
  },
  {
   "cell_type": "code",
   "execution_count": 5,
   "metadata": {},
   "outputs": [
    {
     "name": "stdout",
     "output_type": "stream",
     "text": [
      "loaded\n"
     ]
    }
   ],
   "source": [
    "npz = np.load(open('topics.pyldavis.npz', 'rb'))\n",
    "dat = {k: v for (k, v) in npz.iteritems()}\n",
    "dat['vocab'] = dat['vocab'].tolist()\n",
    "print(\"loaded\")"
   ]
  },
  {
   "cell_type": "code",
   "execution_count": 7,
   "metadata": {},
   "outputs": [
    {
     "name": "stdout",
     "output_type": "stream",
     "text": [
      "Topic 0 galileo easier codes differences professor worse better van calculations complicated\n",
      "Topic 1 gene dept subscribe nut puck altitude atlanta protein seed login\n",
      "Topic 2 md exec languages consumer d.c. sf sensitive centris dir commands\n",
      "Topic 3 wiretap politically 2d armenians politics di al conflicts differences political\n",
      "Topic 4 puck shareware tyre maxtor header lens der responsibility visit ball\n",
      "Topic 5 ss isaiah rf apologize mental v. skills arithmetic wolverine situation\n",
      "Topic 6 criticism koresh intelligence demands replies skepticism theists spiritual teacher atheist\n",
      "Topic 7 l. transmitted transmit widget expos pilot directory rider jim boost\n",
      "Topic 8 hung england florida punishment lying california practice 96 baptism arizona\n",
      "Topic 9 denning glory smokeless netters patches jim ban michael cubs alt\n",
      "Topic 10 login documentary jury alomar murdered murder picture murders convicted cryptography\n",
      "Topic 11 blank cartridge ahl ministry identification corpses goalie worthless authentication cooperation\n",
      "Topic 12 hotel mileage seat apartment gas cabin sf jet pipe average\n",
      "Topic 13 toll governor launches d.c. 76 zealand confusing route km launched\n",
      "Topic 14 physics astronaut theology que ss v obey marriage des ahl\n",
      "Topic 15 allergic dictionary myself homicides rape murders 'm filename symptoms differ\n",
      "Topic 16 bullets rifle hitter accidents revolver anger crashes helmet dealer massacre\n",
      "Topic 17 wounded protein injured voltage vitamin o'clock centaur fish blood damaged\n",
      "Topic 18 mom pirates dream goalie priority stephanopoulos protecting 130 animation accomplish\n",
      "Topic 19 login submit entry edu ftp edit interview password verify submitting\n"
     ]
    }
   ],
   "source": [
    "top_n = 5\n",
    "topic_to_topwords = {}\n",
    "for j, topic_to_word in enumerate(dat['topic_term_dists']):\n",
    "    top = np.argsort(topic_to_word)[::-1][:top_n]\n",
    "    msg = 'Topic %i '  % j\n",
    "    top_words = [dat['vocab'][i].strip()[:35] for i in top]\n",
    "    msg += ' '.join(top_words)\n",
    "    print(msg)\n",
    "    topic_to_topwords[j] = top_words"
   ]
  }
 ],
 "metadata": {
  "kernelspec": {
   "display_name": "Python 3",
   "language": "python",
   "name": "python3"
  },
  "language_info": {
   "codemirror_mode": {
    "name": "ipython",
    "version": 3
   },
   "file_extension": ".py",
   "mimetype": "text/x-python",
   "name": "python",
   "nbconvert_exporter": "python",
   "pygments_lexer": "ipython3",
   "version": "3.7.3"
  }
 },
 "nbformat": 4,
 "nbformat_minor": 2
}
